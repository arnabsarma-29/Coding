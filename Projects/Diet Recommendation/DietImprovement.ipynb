{
 "cells": [
  {
   "cell_type": "code",
   "execution_count": 1,
   "metadata": {
    "collapsed": true
   },
   "outputs": [],
   "source": [
    "import math\n",
    "import numpy as np\n",
    "import pandas as pd"
   ]
  },
  {
   "cell_type": "code",
   "execution_count": 2,
   "metadata": {
    "collapsed": true
   },
   "outputs": [],
   "source": [
    "def foodcsv():\n",
    "    foodcsv = pd.read_csv('E:/project/main/DRS/DRS/data/food.csv', index_col=0, )\n",
    "    return foodcsv\n",
    "def scoredata():\n",
    "    scorecsv = pd.read_csv('E:/project/main/DRS/DRS/data/score_mod.csv', index_col=0, )\n",
    "    return scorecsv\n",
    "def scoredata_original():\n",
    "    scorecsv = pd.read_csv('E:/project/main/DRS/DRS/data/score.csv', index_col=0, )\n",
    "    return scorecsv"
   ]
  },
  {
   "cell_type": "code",
   "execution_count": 3,
   "metadata": {
    "collapsed": false
   },
   "outputs": [
    {
     "ename": "FileNotFoundError",
     "evalue": "[Errno 2] No such file or directory: 'E:/project/main/DRS/DRS/data/food.csv'",
     "output_type": "error",
     "traceback": [
      "\u001b[1;31m---------------------------------------------------------------------------\u001b[0m",
      "\u001b[1;31mFileNotFoundError\u001b[0m                         Traceback (most recent call last)",
      "Cell \u001b[1;32mIn[3], line 1\u001b[0m\n\u001b[1;32m----> 1\u001b[0m foodcsv()[[\u001b[39m\"\u001b[39m\u001b[39mname\u001b[39m\u001b[39m\"\u001b[39m,\u001b[39m\"\u001b[39m\u001b[39mtype\u001b[39m\u001b[39m\"\u001b[39m,\u001b[39m\"\u001b[39m\u001b[39mcalories\u001b[39m\u001b[39m\"\u001b[39m,\u001b[39m\"\u001b[39m\u001b[39mfat\u001b[39m\u001b[39m\"\u001b[39m,\u001b[39m\"\u001b[39m\u001b[39mtotalcarbs\u001b[39m\u001b[39m\"\u001b[39m,\u001b[39m\"\u001b[39m\u001b[39msodium\u001b[39m\u001b[39m\"\u001b[39m,\u001b[39m\"\u001b[39m\u001b[39mprotein\u001b[39m\u001b[39m\"\u001b[39m,\u001b[39m\"\u001b[39m\u001b[39mspecial\u001b[39m\u001b[39m\"\u001b[39m]]\u001b[39m.\u001b[39mhead(\u001b[39m2\u001b[39m)\n",
      "Cell \u001b[1;32mIn[2], line 2\u001b[0m, in \u001b[0;36mfoodcsv\u001b[1;34m()\u001b[0m\n\u001b[0;32m      1\u001b[0m \u001b[39mdef\u001b[39;00m \u001b[39mfoodcsv\u001b[39m():\n\u001b[1;32m----> 2\u001b[0m     foodcsv \u001b[39m=\u001b[39m pd\u001b[39m.\u001b[39;49mread_csv(\u001b[39m'\u001b[39;49m\u001b[39mE:/project/main/DRS/DRS/data/food.csv\u001b[39;49m\u001b[39m'\u001b[39;49m, index_col\u001b[39m=\u001b[39;49m\u001b[39m0\u001b[39;49m, )\n\u001b[0;32m      3\u001b[0m     \u001b[39mreturn\u001b[39;00m foodcsv\n",
      "File \u001b[1;32mc:\\programming_languages\\Python\\Lib\\site-packages\\pandas\\util\\_decorators.py:211\u001b[0m, in \u001b[0;36mdeprecate_kwarg.<locals>._deprecate_kwarg.<locals>.wrapper\u001b[1;34m(*args, **kwargs)\u001b[0m\n\u001b[0;32m    209\u001b[0m     \u001b[39melse\u001b[39;00m:\n\u001b[0;32m    210\u001b[0m         kwargs[new_arg_name] \u001b[39m=\u001b[39m new_arg_value\n\u001b[1;32m--> 211\u001b[0m \u001b[39mreturn\u001b[39;00m func(\u001b[39m*\u001b[39;49margs, \u001b[39m*\u001b[39;49m\u001b[39m*\u001b[39;49mkwargs)\n",
      "File \u001b[1;32mc:\\programming_languages\\Python\\Lib\\site-packages\\pandas\\util\\_decorators.py:331\u001b[0m, in \u001b[0;36mdeprecate_nonkeyword_arguments.<locals>.decorate.<locals>.wrapper\u001b[1;34m(*args, **kwargs)\u001b[0m\n\u001b[0;32m    325\u001b[0m \u001b[39mif\u001b[39;00m \u001b[39mlen\u001b[39m(args) \u001b[39m>\u001b[39m num_allow_args:\n\u001b[0;32m    326\u001b[0m     warnings\u001b[39m.\u001b[39mwarn(\n\u001b[0;32m    327\u001b[0m         msg\u001b[39m.\u001b[39mformat(arguments\u001b[39m=\u001b[39m_format_argument_list(allow_args)),\n\u001b[0;32m    328\u001b[0m         \u001b[39mFutureWarning\u001b[39;00m,\n\u001b[0;32m    329\u001b[0m         stacklevel\u001b[39m=\u001b[39mfind_stack_level(),\n\u001b[0;32m    330\u001b[0m     )\n\u001b[1;32m--> 331\u001b[0m \u001b[39mreturn\u001b[39;00m func(\u001b[39m*\u001b[39;49margs, \u001b[39m*\u001b[39;49m\u001b[39m*\u001b[39;49mkwargs)\n",
      "File \u001b[1;32mc:\\programming_languages\\Python\\Lib\\site-packages\\pandas\\io\\parsers\\readers.py:950\u001b[0m, in \u001b[0;36mread_csv\u001b[1;34m(filepath_or_buffer, sep, delimiter, header, names, index_col, usecols, squeeze, prefix, mangle_dupe_cols, dtype, engine, converters, true_values, false_values, skipinitialspace, skiprows, skipfooter, nrows, na_values, keep_default_na, na_filter, verbose, skip_blank_lines, parse_dates, infer_datetime_format, keep_date_col, date_parser, dayfirst, cache_dates, iterator, chunksize, compression, thousands, decimal, lineterminator, quotechar, quoting, doublequote, escapechar, comment, encoding, encoding_errors, dialect, error_bad_lines, warn_bad_lines, on_bad_lines, delim_whitespace, low_memory, memory_map, float_precision, storage_options)\u001b[0m\n\u001b[0;32m    935\u001b[0m kwds_defaults \u001b[39m=\u001b[39m _refine_defaults_read(\n\u001b[0;32m    936\u001b[0m     dialect,\n\u001b[0;32m    937\u001b[0m     delimiter,\n\u001b[1;32m   (...)\u001b[0m\n\u001b[0;32m    946\u001b[0m     defaults\u001b[39m=\u001b[39m{\u001b[39m\"\u001b[39m\u001b[39mdelimiter\u001b[39m\u001b[39m\"\u001b[39m: \u001b[39m\"\u001b[39m\u001b[39m,\u001b[39m\u001b[39m\"\u001b[39m},\n\u001b[0;32m    947\u001b[0m )\n\u001b[0;32m    948\u001b[0m kwds\u001b[39m.\u001b[39mupdate(kwds_defaults)\n\u001b[1;32m--> 950\u001b[0m \u001b[39mreturn\u001b[39;00m _read(filepath_or_buffer, kwds)\n",
      "File \u001b[1;32mc:\\programming_languages\\Python\\Lib\\site-packages\\pandas\\io\\parsers\\readers.py:605\u001b[0m, in \u001b[0;36m_read\u001b[1;34m(filepath_or_buffer, kwds)\u001b[0m\n\u001b[0;32m    602\u001b[0m _validate_names(kwds\u001b[39m.\u001b[39mget(\u001b[39m\"\u001b[39m\u001b[39mnames\u001b[39m\u001b[39m\"\u001b[39m, \u001b[39mNone\u001b[39;00m))\n\u001b[0;32m    604\u001b[0m \u001b[39m# Create the parser.\u001b[39;00m\n\u001b[1;32m--> 605\u001b[0m parser \u001b[39m=\u001b[39m TextFileReader(filepath_or_buffer, \u001b[39m*\u001b[39;49m\u001b[39m*\u001b[39;49mkwds)\n\u001b[0;32m    607\u001b[0m \u001b[39mif\u001b[39;00m chunksize \u001b[39mor\u001b[39;00m iterator:\n\u001b[0;32m    608\u001b[0m     \u001b[39mreturn\u001b[39;00m parser\n",
      "File \u001b[1;32mc:\\programming_languages\\Python\\Lib\\site-packages\\pandas\\io\\parsers\\readers.py:1442\u001b[0m, in \u001b[0;36mTextFileReader.__init__\u001b[1;34m(self, f, engine, **kwds)\u001b[0m\n\u001b[0;32m   1439\u001b[0m     \u001b[39mself\u001b[39m\u001b[39m.\u001b[39moptions[\u001b[39m\"\u001b[39m\u001b[39mhas_index_names\u001b[39m\u001b[39m\"\u001b[39m] \u001b[39m=\u001b[39m kwds[\u001b[39m\"\u001b[39m\u001b[39mhas_index_names\u001b[39m\u001b[39m\"\u001b[39m]\n\u001b[0;32m   1441\u001b[0m \u001b[39mself\u001b[39m\u001b[39m.\u001b[39mhandles: IOHandles \u001b[39m|\u001b[39m \u001b[39mNone\u001b[39;00m \u001b[39m=\u001b[39m \u001b[39mNone\u001b[39;00m\n\u001b[1;32m-> 1442\u001b[0m \u001b[39mself\u001b[39m\u001b[39m.\u001b[39m_engine \u001b[39m=\u001b[39m \u001b[39mself\u001b[39;49m\u001b[39m.\u001b[39;49m_make_engine(f, \u001b[39mself\u001b[39;49m\u001b[39m.\u001b[39;49mengine)\n",
      "File \u001b[1;32mc:\\programming_languages\\Python\\Lib\\site-packages\\pandas\\io\\parsers\\readers.py:1735\u001b[0m, in \u001b[0;36mTextFileReader._make_engine\u001b[1;34m(self, f, engine)\u001b[0m\n\u001b[0;32m   1733\u001b[0m     \u001b[39mif\u001b[39;00m \u001b[39m\"\u001b[39m\u001b[39mb\u001b[39m\u001b[39m\"\u001b[39m \u001b[39mnot\u001b[39;00m \u001b[39min\u001b[39;00m mode:\n\u001b[0;32m   1734\u001b[0m         mode \u001b[39m+\u001b[39m\u001b[39m=\u001b[39m \u001b[39m\"\u001b[39m\u001b[39mb\u001b[39m\u001b[39m\"\u001b[39m\n\u001b[1;32m-> 1735\u001b[0m \u001b[39mself\u001b[39m\u001b[39m.\u001b[39mhandles \u001b[39m=\u001b[39m get_handle(\n\u001b[0;32m   1736\u001b[0m     f,\n\u001b[0;32m   1737\u001b[0m     mode,\n\u001b[0;32m   1738\u001b[0m     encoding\u001b[39m=\u001b[39;49m\u001b[39mself\u001b[39;49m\u001b[39m.\u001b[39;49moptions\u001b[39m.\u001b[39;49mget(\u001b[39m\"\u001b[39;49m\u001b[39mencoding\u001b[39;49m\u001b[39m\"\u001b[39;49m, \u001b[39mNone\u001b[39;49;00m),\n\u001b[0;32m   1739\u001b[0m     compression\u001b[39m=\u001b[39;49m\u001b[39mself\u001b[39;49m\u001b[39m.\u001b[39;49moptions\u001b[39m.\u001b[39;49mget(\u001b[39m\"\u001b[39;49m\u001b[39mcompression\u001b[39;49m\u001b[39m\"\u001b[39;49m, \u001b[39mNone\u001b[39;49;00m),\n\u001b[0;32m   1740\u001b[0m     memory_map\u001b[39m=\u001b[39;49m\u001b[39mself\u001b[39;49m\u001b[39m.\u001b[39;49moptions\u001b[39m.\u001b[39;49mget(\u001b[39m\"\u001b[39;49m\u001b[39mmemory_map\u001b[39;49m\u001b[39m\"\u001b[39;49m, \u001b[39mFalse\u001b[39;49;00m),\n\u001b[0;32m   1741\u001b[0m     is_text\u001b[39m=\u001b[39;49mis_text,\n\u001b[0;32m   1742\u001b[0m     errors\u001b[39m=\u001b[39;49m\u001b[39mself\u001b[39;49m\u001b[39m.\u001b[39;49moptions\u001b[39m.\u001b[39;49mget(\u001b[39m\"\u001b[39;49m\u001b[39mencoding_errors\u001b[39;49m\u001b[39m\"\u001b[39;49m, \u001b[39m\"\u001b[39;49m\u001b[39mstrict\u001b[39;49m\u001b[39m\"\u001b[39;49m),\n\u001b[0;32m   1743\u001b[0m     storage_options\u001b[39m=\u001b[39;49m\u001b[39mself\u001b[39;49m\u001b[39m.\u001b[39;49moptions\u001b[39m.\u001b[39;49mget(\u001b[39m\"\u001b[39;49m\u001b[39mstorage_options\u001b[39;49m\u001b[39m\"\u001b[39;49m, \u001b[39mNone\u001b[39;49;00m),\n\u001b[0;32m   1744\u001b[0m )\n\u001b[0;32m   1745\u001b[0m \u001b[39massert\u001b[39;00m \u001b[39mself\u001b[39m\u001b[39m.\u001b[39mhandles \u001b[39mis\u001b[39;00m \u001b[39mnot\u001b[39;00m \u001b[39mNone\u001b[39;00m\n\u001b[0;32m   1746\u001b[0m f \u001b[39m=\u001b[39m \u001b[39mself\u001b[39m\u001b[39m.\u001b[39mhandles\u001b[39m.\u001b[39mhandle\n",
      "File \u001b[1;32mc:\\programming_languages\\Python\\Lib\\site-packages\\pandas\\io\\common.py:856\u001b[0m, in \u001b[0;36mget_handle\u001b[1;34m(path_or_buf, mode, encoding, compression, memory_map, is_text, errors, storage_options)\u001b[0m\n\u001b[0;32m    851\u001b[0m \u001b[39melif\u001b[39;00m \u001b[39misinstance\u001b[39m(handle, \u001b[39mstr\u001b[39m):\n\u001b[0;32m    852\u001b[0m     \u001b[39m# Check whether the filename is to be opened in binary mode.\u001b[39;00m\n\u001b[0;32m    853\u001b[0m     \u001b[39m# Binary mode does not support 'encoding' and 'newline'.\u001b[39;00m\n\u001b[0;32m    854\u001b[0m     \u001b[39mif\u001b[39;00m ioargs\u001b[39m.\u001b[39mencoding \u001b[39mand\u001b[39;00m \u001b[39m\"\u001b[39m\u001b[39mb\u001b[39m\u001b[39m\"\u001b[39m \u001b[39mnot\u001b[39;00m \u001b[39min\u001b[39;00m ioargs\u001b[39m.\u001b[39mmode:\n\u001b[0;32m    855\u001b[0m         \u001b[39m# Encoding\u001b[39;00m\n\u001b[1;32m--> 856\u001b[0m         handle \u001b[39m=\u001b[39m \u001b[39mopen\u001b[39;49m(\n\u001b[0;32m    857\u001b[0m             handle,\n\u001b[0;32m    858\u001b[0m             ioargs\u001b[39m.\u001b[39;49mmode,\n\u001b[0;32m    859\u001b[0m             encoding\u001b[39m=\u001b[39;49mioargs\u001b[39m.\u001b[39;49mencoding,\n\u001b[0;32m    860\u001b[0m             errors\u001b[39m=\u001b[39;49merrors,\n\u001b[0;32m    861\u001b[0m             newline\u001b[39m=\u001b[39;49m\u001b[39m\"\u001b[39;49m\u001b[39m\"\u001b[39;49m,\n\u001b[0;32m    862\u001b[0m         )\n\u001b[0;32m    863\u001b[0m     \u001b[39melse\u001b[39;00m:\n\u001b[0;32m    864\u001b[0m         \u001b[39m# Binary mode\u001b[39;00m\n\u001b[0;32m    865\u001b[0m         handle \u001b[39m=\u001b[39m \u001b[39mopen\u001b[39m(handle, ioargs\u001b[39m.\u001b[39mmode)\n",
      "\u001b[1;31mFileNotFoundError\u001b[0m: [Errno 2] No such file or directory: 'E:/project/main/DRS/DRS/data/food.csv'"
     ]
    }
   ],
   "source": [
    "foodcsv()[[\"name\",\"type\",\"calories\",\"fat\",\"totalcarbs\",\"sodium\",\"protein\",\"special\"]].head(2)"
   ]
  },
  {
   "cell_type": "code",
   "execution_count": null,
   "metadata": {
    "collapsed": false
   },
   "outputs": [],
   "source": [
    "scoredata().head(2)"
   ]
  },
  {
   "cell_type": "code",
   "execution_count": null,
   "metadata": {
    "collapsed": false,
    "scrolled": true
   },
   "outputs": [],
   "source": [
    "scoredata_original().head(2)"
   ]
  },
  {
   "cell_type": "code",
   "execution_count": null,
   "metadata": {
    "collapsed": true
   },
   "outputs": [],
   "source": [
    "def euclidean(s1, s2):\n",
    "    \"\"\"Take two pd.Series objects and return their euclidean 'similarity'.\"\"\"\n",
    "    diff = s1 - s2\n",
    "    return 1 / (1 + np.sqrt(np.sum(diff ** 2)))"
   ]
  },
  {
   "cell_type": "code",
   "execution_count": null,
   "metadata": {
    "collapsed": true
   },
   "outputs": [],
   "source": [
    "def cosine(s1, s2):\n",
    "    \"\"\"Take two pd.Series objects and return their cosine similarity.\"\"\"\n",
    "    return np.sum(s1 * s2) / np.sqrt(np.sum(s1 ** 2) * np.sum(s2 ** 2))"
   ]
  },
  {
   "cell_type": "code",
   "execution_count": null,
   "metadata": {
    "collapsed": true
   },
   "outputs": [],
   "source": [
    "def pearson(s1, s2):\n",
    "    \"\"\"Take two pd.Series objects and return a pearson correlation.\"\"\"\n",
    "    s1_c = s1 - s1.mean()\n",
    "    s2_c = s2 - s2.mean()\n",
    "    return np.sum(s1_c * s2_c) / np.sqrt(np.sum(s1_c ** 2) * np.sum(s2_c ** 2))"
   ]
  },
  {
   "cell_type": "code",
   "execution_count": null,
   "metadata": {
    "collapsed": false
   },
   "outputs": [],
   "source": [
    "def knn(user_id,food_id):\n",
    "    scorecsv_mod = scoredata()\n",
    "    all_user_profiles = scorecsv_mod.pivot_table('rating', index='food_id', columns='user_id')\n",
    "    user_condition = scorecsv_mod.user_id != user_id\n",
    "    food_condition = scorecsv_mod.food_id == food_id\n",
    "    ratings_by_others = scorecsv_mod.loc[user_condition & food_condition]\n",
    "   \n",
    "    if ratings_by_others.empty:\n",
    "        return pd.DataFrame()\n",
    "\n",
    "    ratings_by_others.set_index('user_id', inplace=True)\n",
    "    their_ids = ratings_by_others.index\n",
    "    their_profiles = all_user_profiles[their_ids]\n",
    "    user_profile = all_user_profiles[user_id]\n",
    "    sims = their_profiles.apply(lambda profile: pearson(profile, user_profile), axis=0) \n",
    "    sims = sims.to_frame().sort_values(by=0, axis=0, ascending=False)\n",
    "    sims.rename(columns={0:food_id},inplace=True)\n",
    "    sims=sims.head(13)\n",
    "    return sims\n",
    "def knnf(food_id,user_id):    \n",
    "    scorecsv = scoredata()\n",
    "    all_food_profiles = scorecsv.pivot_table('rating', index='user_id', columns='food_id')\n",
    "    user_condition = scorecsv.user_id == user_id\n",
    "    food_condition = scorecsv.food_id != food_id\n",
    "    ratings_by_others = scorecsv.loc[user_condition & food_condition]\n",
    "   \n",
    "    if ratings_by_others.empty:\n",
    "        return pd.DataFrame()\n",
    "    ratings_by_others.set_index('food_id', inplace=True)\n",
    "    their_ids = ratings_by_others.index\n",
    "   \n",
    "    their_profiles = all_food_profiles[their_ids]\n",
    "    food_profile = all_food_profiles[food_id]\n",
    "    sims = their_profiles.apply(lambda profile: pearson(profile, food_profile), axis=0)\n",
    "    sims = sims.to_frame().sort_values(by=0, axis=0, ascending=False)\n",
    "    sims=sims.head(13)\n",
    "    return sims"
   ]
  },
  {
   "cell_type": "code",
   "execution_count": null,
   "metadata": {
    "collapsed": false
   },
   "outputs": [],
   "source": [
    "knn(68,3).head()"
   ]
  },
  {
   "cell_type": "code",
   "execution_count": null,
   "metadata": {
    "collapsed": false
   },
   "outputs": [],
   "source": [
    "knnf(1,183).head()"
   ]
  },
  {
   "cell_type": "code",
   "execution_count": null,
   "metadata": {
    "collapsed": false
   },
   "outputs": [],
   "source": [
    "%timeit -n10 knn(1,1)\n",
    "%timeit -n10 knnf(1,1)"
   ]
  },
  {
   "cell_type": "markdown",
   "metadata": {},
   "source": [
    "### Pure KNN Method to predict foods' scores"
   ]
  },
  {
   "cell_type": "code",
   "execution_count": null,
   "metadata": {
    "collapsed": true
   },
   "outputs": [],
   "source": [
    "class CollabEuclideanReco:\n",
    "    \"\"\" Collaborative filtering using a custom sim(u,u'). \"\"\"\n",
    "\n",
    "    def learn(self):\n",
    "        \"\"\" Prepare datastructures for estimation. \"\"\"\n",
    "        scorecsv = scoredata()\n",
    "        self.all_user_profiles = scorecsv.pivot_table('rating', index='food_id', columns='user_id')\n",
    "        self.all_food_profiles = scorecsv.pivot_table('rating', index='user_id', columns='food_id')\n",
    "\n",
    "    def estimate(self, user_id, food_id):\n",
    "        \"\"\" Ratings weighted by correlation similarity. \"\"\"\n",
    "        scorecsv = scoredata()\n",
    "\n",
    "        user_condition = scorecsv.user_id != user_id\n",
    "        food_condition = scorecsv.food_id == food_id\n",
    "        ratings_by_others = scorecsv.loc[user_condition & food_condition]\n",
    "        if ratings_by_others.empty:\n",
    "            return 5.5\n",
    "\n",
    "        ratings_by_others.set_index('user_id', inplace=True)\n",
    "        their_ids = ratings_by_others.index\n",
    "        their_ratings = ratings_by_others.rating\n",
    "        their_profiles = self.all_user_profiles[their_ids]\n",
    "        user_profile = self.all_user_profiles[user_id]\n",
    "        sims = their_profiles.apply(lambda profile: pearson(profile, user_profile), axis=0)\n",
    "        ratings_sims = pd.DataFrame({'sim': sims, 'rating': their_ratings})\n",
    "        ratings_sims = ratings_sims[ratings_sims.sim > 0]\n",
    "\n",
    "        if ratings_sims.empty:\n",
    "            userest = their_ratings.mean()\n",
    "        else:\n",
    "            b = ratings_sims.sort_values(by=\"sim\", axis=0, ascending=False)\n",
    "            b = b.head(13)\n",
    "            userest = np.average(b.rating, weights=b.sim)\n",
    "\n",
    "        user_condition = scorecsv.user_id == user_id\n",
    "        food_condition = scorecsv.food_id != food_id\n",
    "        ratings_by_others = scorecsv.loc[user_condition & food_condition]\n",
    "        if ratings_by_others.empty:\n",
    "            return 6\n",
    "\n",
    "        ratings_by_others.set_index('food_id', inplace=True)\n",
    "        their_ids = ratings_by_others.index\n",
    "        their_ratings = ratings_by_others.rating\n",
    "        their_profiles = self.all_food_profiles[their_ids]\n",
    "        food_profile = self.all_food_profiles[food_id]\n",
    "        sims = their_profiles.apply(lambda profile: pearson(profile, food_profile), axis=0)\n",
    "        ratings_sims = pd.DataFrame({'sim': sims, 'rating': their_ratings})\n",
    "        ratings_sims = ratings_sims[ratings_sims.sim > 0]\n",
    "        if ratings_sims.empty:\n",
    "            return (userest + their_ratings.mean()) / 2\n",
    "        else:\n",
    "            c = ratings_sims.sort_values(by=\"sim\", axis=0, ascending=False)\n",
    "            c = c.head(13)\n",
    "        return (userest + np.average(c.rating, weights=c.sim)) / 2"
   ]
  },
  {
   "cell_type": "code",
   "execution_count": null,
   "metadata": {
    "collapsed": false
   },
   "outputs": [],
   "source": [
    "rec=CollabEuclideanReco()\n",
    "rec.learn()\n",
    "rec.estimate(64,19)"
   ]
  },
  {
   "cell_type": "code",
   "execution_count": null,
   "metadata": {
    "collapsed": true
   },
   "outputs": [],
   "source": [
    "def knn_array(f,u):\n",
    "    R = scoredata().pivot_table('rating', index='user_id', columns='food_id').fillna(0)\n",
    "    a = list(knnf(f,u).index)\n",
    "    b = list(knn(u,f).index)\n",
    "    a.append(f)\n",
    "    b.append(u)\n",
    "    RC = R.iloc[R.index.isin(b)]\n",
    "    RT = R.T\n",
    "    RT = RT.iloc[RT.index.astype(float).isin(a)]\n",
    "    RO = RC[RT.index]\n",
    "    R = np.array(RO)\n",
    "    return R,RO"
   ]
  },
  {
   "cell_type": "code",
   "execution_count": null,
   "metadata": {
    "collapsed": false
   },
   "outputs": [],
   "source": [
    "R,RO=knn_array(19,64)\n",
    "RO.head()"
   ]
  },
  {
   "cell_type": "code",
   "execution_count": null,
   "metadata": {
    "collapsed": true
   },
   "outputs": [],
   "source": [
    "import numpy\n",
    "def matrix_factorization(u, f, steps=3500, alpha=0.0003, beta=0.02):\n",
    "    R, RO = knn_array(f, u)\n",
    "    N = len(R)\n",
    "    M = len(R[0])\n",
    "    K = 4\n",
    "    P = numpy.random.rand(N, K)\n",
    "    Q = numpy.random.rand(M, K)\n",
    "    Q = Q.T\n",
    "    for step in range(steps):\n",
    "        for i in range(len(R)):\n",
    "            for j in range(len(R[i])):\n",
    "                if R[i][j] > 0:\n",
    "                    eij = R[i][j] - numpy.dot(P[i, :], Q[:, j])\n",
    "                    for k in range(K):\n",
    "                        P[i][k] = P[i][k] + alpha * (2 * eij * Q[k][j] - beta * P[i][k])\n",
    "                        Q[k][j] = Q[k][j] + alpha * (2 * eij * P[i][k] - beta * Q[k][j])\n",
    "        eR = numpy.dot(P, Q)\n",
    "        e = 0\n",
    "        for i in range(len(R)):\n",
    "            for j in range(len(R[i])):\n",
    "                if R[i][j] > 0:\n",
    "                    e = e + pow(R[i][j] - numpy.dot(P[i, :], Q[:, j]), 2)\n",
    "                    for k in range(K):\n",
    "                        e += (beta / 2) * (pow(P[i][k], 2) + pow(Q[k][j], 2))\n",
    "        if e < 0.001:\n",
    "            break\n",
    "    Rpred = numpy.dot(P, Q)\n",
    "    scorepred = pd.DataFrame(Rpred[0:, 0:], index=RO.index, columns=RO.columns)\n",
    "    try:\n",
    "        temp=scorepred.loc[u].loc[f]\n",
    "        if temp>0:\n",
    "            \n",
    "            return temp\n",
    "        else:\n",
    "            return 0\n",
    "    except:\n",
    "        print(u, f, \"error\")\n",
    "        return 5.78"
   ]
  },
  {
   "cell_type": "code",
   "execution_count": null,
   "metadata": {
    "collapsed": false
   },
   "outputs": [],
   "source": [
    "matrix_factorization(64,19)"
   ]
  },
  {
   "cell_type": "code",
   "execution_count": null,
   "metadata": {
    "collapsed": false
   },
   "outputs": [],
   "source": [
    "realsurvey_64 = pd.read_csv(\"data/survey/recfood/ID64.csv\",index_col=0)\n",
    "realsurvey_64.loc[19][\"score\"]"
   ]
  },
  {
   "cell_type": "code",
   "execution_count": null,
   "metadata": {
    "collapsed": true
   },
   "outputs": [],
   "source": [
    "def healthscore(user, food):\n",
    "    def dif(a, b):\n",
    "        return math.fabs(float(math.fabs(a - b) / b))\n",
    "\n",
    "    ts = 1  \n",
    "    if food.type == 1:\n",
    "        ts = 0.6\n",
    "    elif food.type == 2:\n",
    "        ts = 0.3\n",
    "    elif food.type == 3:\n",
    "        ts = 0.3\n",
    "    elif food.type == 4:\n",
    "        ts = 0.2\n",
    "    elif food.type == 5:\n",
    "        ts = 0.1\n",
    "    basic = user.getcalorie() / 3 * ts\n",
    "    carbs = ts * basic * 0.45\n",
    "    fatmin = basic * 0.2 / 9.0 * ts\n",
    "    fatmax = basic * 0.35 / 9.0 * ts\n",
    "    sodium = 2400 / 3.0 * ts\n",
    "    if user.age >= 51:\n",
    "        sodium = 1500 / 3 * ts\n",
    "    protein = 0.9 * user.getweight()\n",
    "    if 0.5 <= user.goal <= 1.5:\n",
    "        protein = 1.5 * user.getweight()\n",
    "    elif user.goal > 1.5:\n",
    "        protein = 2.2 * user.getweight()\n",
    "    if \"protein\" in user.special:\n",
    "        protein = user.special[\"protein\"]\n",
    "    protein /= 3\n",
    "    protein *= ts\n",
    "    if food.getfat() in [fatmin, fatmax]:\n",
    "        fat = 0\n",
    "    else:\n",
    "        fat = min(dif(food.getfat(), fatmin), dif(food.getfat(), fatmax))\n",
    "    diff = dif(food.getcal(), basic) * 0.5 + dif(food.gettotalcarbs(), carbs) * 0.1 + dif(food.getsodium(),\n",
    "                                                                                          sodium) * 0.1 + dif(\n",
    "            food.getprotein(), protein) * 0.1 + fat * 0.2\n",
    "    result -= math.pow(7 * diff, 2) + 100\n",
    "    if diff <= 0.05:\n",
    "        result = 100\n",
    "    if result <= 40: result = 40\n",
    "\n",
    "    if veg(user, food): result = 0 \n",
    "    return result\n",
    "\n",
    "def veg(user, food):\n",
    "    if \"veg\" in user.special:\n",
    "        if food.getspecial(\"veg\"):\n",
    "            return True\n",
    "        else:\n",
    "            return False\n",
    "def health(p):# input p user_id list\n",
    "        user = []\n",
    "        food = fooddata()\n",
    "        healthcsv = pd.DataFrame()\n",
    "        for i in p:\n",
    "            user.append(userselect(i))\n",
    "        for i in user:\n",
    "               for j in food:\n",
    "                    if j.foodid not in healthcsv.columns:\n",
    "                        healthcsv[j.foodid] = np.nan\n",
    "                    score = healthscore(i, j)\n",
    "                    healthcsv.loc[i.id, j.foodid] = score\n",
    "        healthcsv = healthcsv.round(3)\n",
    "        return healthcsv"
   ]
  },
  {
   "cell_type": "code",
   "execution_count": null,
   "metadata": {
    "collapsed": false
   },
   "outputs": [],
   "source": [
    "_health=health([183]).multiply(.1)\n",
    "_health"
   ]
  },
  {
   "cell_type": "code",
   "execution_count": null,
   "metadata": {
    "collapsed": true
   },
   "outputs": [],
   "source": [
    "def gene_test_train():\n",
    "    scorecsv = scoredata()\n",
    "    scorecsv = scorecsv.ix[np.random.choice(scorecsv.index, size=800, replace=False)]\n",
    "    user_ids_larger_1 = pd.value_counts(scorecsv.user_id, sort=False) > 1\n",
    "    user_ids_larger_1 = user_ids_larger_1[user_ids_larger_1].index\n",
    "\n",
    "    scorecsv = scorecsv.select(lambda l: scorecsv.loc[l, 'user_id'] in user_ids_larger_1)\n",
    "    assert np.all(scorecsv.user_id.value_counts() > 1)\n",
    "\n",
    "    def assign_to_set(df):\n",
    "        sampled_ids = np.random.choice(df.index,\n",
    "                                       size=np.int64(np.ceil(df.index.size * 0.2)),\n",
    "                                       replace=False)\n",
    "        df.ix[sampled_ids, 'for_testing'] = True\n",
    "        return df\n",
    "\n",
    "    scorecsv['for_testing'] = False\n",
    "    grouped = scorecsv.groupby('user_id', group_keys=False).apply(assign_to_set)\n",
    "    scorecsv_train = scorecsv[grouped.for_testing == False]\n",
    "    scorecsv_test = scorecsv[grouped.for_testing == True]\n",
    "    assert len(scorecsv_train.index & scorecsv_test.index) == 0\n",
    "    scorecsv_train.to_csv('E:/project/main/DRS/DRS/data/test_score/scorecsv_train.csv')\n",
    "    scorecsv_test.to_csv('E:/project/main/DRS/DRS/data/test_score/scorecsv_test.csv')\n",
    "gene_test_train()"
   ]
  },
  {
   "cell_type": "code",
   "execution_count": null,
   "metadata": {
    "collapsed": true
   },
   "outputs": [],
   "source": [
    "scorecsv_train = pd.read_csv('E:/project/main/DRS/DRS/data/test_score/scorecsv_train.csv',index_col=0)\n",
    "scorecsv_test=pd.read_csv('E:/project/main/DRS/DRS/data/test_score/scorecsv_test.csv',index_col=0)"
   ]
  },
  {
   "cell_type": "code",
   "execution_count": null,
   "metadata": {
    "collapsed": false
   },
   "outputs": [],
   "source": [
    "scorecsv_train.head()"
   ]
  },
  {
   "cell_type": "code",
   "execution_count": null,
   "metadata": {
    "collapsed": false
   },
   "outputs": [],
   "source": [
    "scorecsv_test.head()"
   ]
  },
  {
   "cell_type": "code",
   "execution_count": null,
   "metadata": {
    "collapsed": true
   },
   "outputs": [],
   "source": [
    "def compute_rmse(y_pred, y_true):\n",
    "    \"\"\" Compute Root Mean Squared Error. \"\"\"\n",
    "    \n",
    "    return np.sqrt(np.mean(np.power(y_pred - y_true, 2)))"
   ]
  },
  {
   "cell_type": "code",
   "execution_count": null,
   "metadata": {
    "collapsed": true
   },
   "outputs": [],
   "source": [
    "def evaluate_data():\n",
    "    train = pd.read_csv(\"E:/project/main/DRS/DRS/data/test_score/scorecsv_train.csv\")\n",
    "    test = pd.read_csv(\"E:/project/main/DRS/DRS/data/test_score/scorecsv_test.csv\")\n",
    "    return train, test\n",
    "\n",
    "def evaluate(estimate_f):\n",
    "    \"\"\" RMSE-based predictive performance evaluation with pandas. \"\"\"\n",
    "    scorecsv_train, scorecsv_test = evaluate_data()\n",
    "    ids_to_estimate = zip(scorecsv_test.user_id, scorecsv_test.food_id)\n",
    "    estimated = np.array([estimate_f(u, i) for (u, i) in ids_to_estimate])\n",
    "    real = scorecsv_test.rating.values\n",
    "    return compute_rmse(estimated, real)"
   ]
  },
  {
   "cell_type": "code",
   "execution_count": null,
   "metadata": {
    "collapsed": false
   },
   "outputs": [],
   "source": [
    "def naive(a,b):\n",
    "    return 5.798\n",
    "evaluate(naive)"
   ]
  }
 ],
 "metadata": {
  "kernelspec": {
   "display_name": "Python 3.10.4 64-bit",
   "language": "python",
   "name": "python3"
  },
  "language_info": {
   "codemirror_mode": {
    "name": "ipython",
    "version": 3
   },
   "file_extension": ".py",
   "mimetype": "text/x-python",
   "name": "python",
   "nbconvert_exporter": "python",
   "pygments_lexer": "ipython3",
   "version": "3.11.1"
  },
  "vscode": {
   "interpreter": {
    "hash": "05def047d0a24245d3cfb3be9a8bd7abd49e6036f932e5285e8903a02e92fff3"
   }
  }
 },
 "nbformat": 4,
 "nbformat_minor": 0
}
