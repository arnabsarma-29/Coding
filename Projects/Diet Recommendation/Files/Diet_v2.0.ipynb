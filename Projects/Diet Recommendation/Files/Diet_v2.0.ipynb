{
 "cells": [
  {
   "cell_type": "code",
   "execution_count": null,
   "metadata": {},
   "outputs": [],
   "source": [
    "import pandas as pd\n",
    "import numpy as np"
   ]
  },
  {
   "cell_type": "code",
   "execution_count": null,
   "metadata": {},
   "outputs": [],
   "source": [
    "data=pd.read_csv('food.csv')\n",
    "Breakfastdata=data['Breakfast']\n",
    "BreakfastdataNumpy=Breakfastdata.to_numpy()\n",
    "    \n",
    "Lunchdata=data['Lunch']\n",
    "LunchdataNumpy=Lunchdata.to_numpy()\n",
    "    \n",
    "Dinnerdata=data['Dinner']\n",
    "DinnerdataNumpy=Dinnerdata.to_numpy()\n",
    "Food_itemsdata=data['Food_items']"
   ]
  },
  {
   "cell_type": "code",
   "execution_count": null,
   "metadata": {},
   "outputs": [],
   "source": [
    "def "
   ]
  }
 ],
 "metadata": {
  "kernelspec": {
   "display_name": "Python 3",
   "language": "python",
   "name": "python3"
  },
  "language_info": {
   "name": "python",
   "version": "3.11.1"
  },
  "orig_nbformat": 4
 },
 "nbformat": 4,
 "nbformat_minor": 2
}
