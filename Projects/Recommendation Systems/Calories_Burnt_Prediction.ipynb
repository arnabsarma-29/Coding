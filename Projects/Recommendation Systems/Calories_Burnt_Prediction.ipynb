{
 "cells": [
  {
   "cell_type": "markdown",
   "metadata": {
    "colab_type": "text",
    "id": "view-in-github"
   },
   "source": [
    "<a href=\"https://colab.research.google.com/github/reenarao00/Data-Science./blob/main/Calories_Burnt_Prediction.ipynb\" target=\"_parent\"><img src=\"https://colab.research.google.com/assets/colab-badge.svg\" alt=\"Open In Colab\"/></a>"
   ]
  },
  {
   "cell_type": "markdown",
   "metadata": {
    "id": "2Xi0CMM2clAj"
   },
   "source": [
    "Importing the Dependencies"
   ]
  },
  {
   "cell_type": "code",
   "execution_count": 1,
   "metadata": {
    "id": "6PbZXKDQZEWJ"
   },
   "outputs": [
    {
     "ename": "ModuleNotFoundError",
     "evalue": "No module named 'numpy'",
     "output_type": "error",
     "traceback": [
      "\u001b[1;31m---------------------------------------------------------------------------\u001b[0m",
      "\u001b[1;31mModuleNotFoundError\u001b[0m                       Traceback (most recent call last)",
      "Cell \u001b[1;32mIn[1], line 1\u001b[0m\n\u001b[1;32m----> 1\u001b[0m \u001b[39mimport\u001b[39;00m \u001b[39mnumpy\u001b[39;00m \u001b[39mas\u001b[39;00m \u001b[39mnp\u001b[39;00m\n\u001b[0;32m      2\u001b[0m \u001b[39mimport\u001b[39;00m \u001b[39mpandas\u001b[39;00m \u001b[39mas\u001b[39;00m \u001b[39mpd\u001b[39;00m\n\u001b[0;32m      3\u001b[0m \u001b[39mimport\u001b[39;00m \u001b[39mmatplotlib\u001b[39;00m\u001b[39m.\u001b[39;00m\u001b[39mpyplot\u001b[39;00m \u001b[39mas\u001b[39;00m \u001b[39mplt\u001b[39;00m\n",
      "\u001b[1;31mModuleNotFoundError\u001b[0m: No module named 'numpy'"
     ]
    }
   ],
   "source": [
    "import numpy as np\n",
    "import pandas as pd\n",
    "import matplotlib.pyplot as plt\n",
    "import seaborn as sns\n",
    "from sklearn.model_selection import train_test_split\n",
    "from xgboost import XGBRegressor\n",
    "from sklearn import metrics"
   ]
  },
  {
   "cell_type": "markdown",
   "metadata": {
    "id": "rcfuz4bXdg1I"
   },
   "source": [
    "Data Collection & Processing"
   ]
  },
  {
   "cell_type": "code",
   "execution_count": null,
   "metadata": {
    "id": "455T_ehLc9LM"
   },
   "outputs": [],
   "source": [
    "# loading the data from csv file to a Pandas DataFrame\n",
    "calories = pd.read_csv('/content/calories.csv')"
   ]
  },
  {
   "cell_type": "code",
   "execution_count": null,
   "metadata": {
    "colab": {
     "base_uri": "https://localhost:8080/",
     "height": 196
    },
    "id": "afZUOcwbemJc",
    "outputId": "c7ed1e29-240e-4972-cc9c-80fae5d751d0"
   },
   "outputs": [],
   "source": [
    "# print the first 5 rows of the dataframe\n",
    "calories.head()"
   ]
  },
  {
   "cell_type": "code",
   "execution_count": null,
   "metadata": {
    "id": "alQtMyM6etdl"
   },
   "outputs": [],
   "source": [
    "exercise_data = pd.read_csv('/content/exercise.csv')"
   ]
  },
  {
   "cell_type": "code",
   "execution_count": null,
   "metadata": {
    "colab": {
     "base_uri": "https://localhost:8080/",
     "height": 196
    },
    "id": "5lA2LmJUe3kA",
    "outputId": "5e5b99b8-55e0-436a-93bf-bd74f5a49a46"
   },
   "outputs": [],
   "source": [
    "exercise_data.head()"
   ]
  },
  {
   "cell_type": "markdown",
   "metadata": {
    "id": "Iid8PMjmfqvX"
   },
   "source": [
    "Combining the two Dataframes"
   ]
  },
  {
   "cell_type": "code",
   "execution_count": null,
   "metadata": {
    "id": "kAHQrky8e6VP"
   },
   "outputs": [],
   "source": [
    "calories_data = pd.concat([exercise_data, calories['Calories']], axis=1)"
   ]
  },
  {
   "cell_type": "code",
   "execution_count": null,
   "metadata": {
    "colab": {
     "base_uri": "https://localhost:8080/",
     "height": 196
    },
    "id": "RO-DGhIdgPrG",
    "outputId": "1c049b16-ca96-477d-b215-d704e0efb00d"
   },
   "outputs": [],
   "source": [
    "calories_data.head()"
   ]
  },
  {
   "cell_type": "code",
   "execution_count": null,
   "metadata": {
    "colab": {
     "base_uri": "https://localhost:8080/"
    },
    "id": "kB0hwwMHgS7x",
    "outputId": "d6a38169-6d98-4710-d161-5584b000f4a3"
   },
   "outputs": [],
   "source": [
    "# checking the number of rows and columns\n",
    "calories_data.shape"
   ]
  },
  {
   "cell_type": "code",
   "execution_count": null,
   "metadata": {
    "colab": {
     "base_uri": "https://localhost:8080/"
    },
    "id": "siYE6fU7gbi3",
    "outputId": "2612cdc7-84a8-4e3f-ab9a-94e7dc5b8f73"
   },
   "outputs": [],
   "source": [
    "# getting some informations about the data\n",
    "calories_data.info()"
   ]
  },
  {
   "cell_type": "code",
   "execution_count": null,
   "metadata": {
    "colab": {
     "base_uri": "https://localhost:8080/"
    },
    "id": "XhKisO0pgwXd",
    "outputId": "0a9e3328-081b-40d3-b92c-4488ecfc4b5d"
   },
   "outputs": [],
   "source": [
    "# checking for missing values\n",
    "calories_data.isnull().sum()"
   ]
  },
  {
   "cell_type": "markdown",
   "metadata": {
    "id": "oY-QcmsVhSBV"
   },
   "source": [
    "Data Analysis"
   ]
  },
  {
   "cell_type": "code",
   "execution_count": null,
   "metadata": {
    "colab": {
     "base_uri": "https://localhost:8080/",
     "height": 286
    },
    "id": "95cmeAWZhFa4",
    "outputId": "e2f0f104-4183-4ec1-9285-79ec85461692"
   },
   "outputs": [],
   "source": [
    "# get some statistical measures about the data\n",
    "calories_data.describe()"
   ]
  },
  {
   "cell_type": "markdown",
   "metadata": {
    "id": "0t8EoEUaiHeZ"
   },
   "source": [
    "Data Visualization"
   ]
  },
  {
   "cell_type": "code",
   "execution_count": null,
   "metadata": {
    "id": "xU4y4ZsIhiKE"
   },
   "outputs": [],
   "source": [
    "sns.set()"
   ]
  },
  {
   "cell_type": "code",
   "execution_count": null,
   "metadata": {
    "colab": {
     "base_uri": "https://localhost:8080/",
     "height": 355
    },
    "id": "MuzLivXSiMwi",
    "outputId": "d6ce6c29-320b-4e5c-89eb-af77aec2aef5"
   },
   "outputs": [],
   "source": [
    "# plotting the gender column in count plot\n",
    "sns.countplot(calories_data['Gender'])"
   ]
  },
  {
   "cell_type": "code",
   "execution_count": null,
   "metadata": {
    "colab": {
     "base_uri": "https://localhost:8080/",
     "height": 355
    },
    "id": "UhcoOmdRihmk",
    "outputId": "2c80ced0-94be-439e-aed5-f73d630576b3"
   },
   "outputs": [],
   "source": [
    "# finding the distribution of \"Age\" column\n",
    "sns.distplot(calories_data['Age'])"
   ]
  },
  {
   "cell_type": "code",
   "execution_count": null,
   "metadata": {
    "colab": {
     "base_uri": "https://localhost:8080/",
     "height": 355
    },
    "id": "FZDTaUmfjBzk",
    "outputId": "165d6d55-6d08-4469-b502-01e288986ecf"
   },
   "outputs": [],
   "source": [
    "# finding the distribution of \"Height\" column\n",
    "sns.distplot(calories_data['Height'])"
   ]
  },
  {
   "cell_type": "code",
   "execution_count": null,
   "metadata": {
    "colab": {
     "base_uri": "https://localhost:8080/",
     "height": 355
    },
    "id": "JhP8EIrqjV_e",
    "outputId": "225e6daf-8ea3-4051-964d-204184eb55d2"
   },
   "outputs": [],
   "source": [
    "# finding the distribution of \"Weight\" column\n",
    "sns.distplot(calories_data['Weight'])"
   ]
  },
  {
   "cell_type": "markdown",
   "metadata": {
    "id": "N9TJtsGnjrZs"
   },
   "source": [
    "Finding the Correlation in the dataset"
   ]
  },
  {
   "cell_type": "markdown",
   "metadata": {
    "id": "f6cFMyI3jzPb"
   },
   "source": [
    "1. Positive Correlation\n",
    "2. Negative Correlation"
   ]
  },
  {
   "cell_type": "code",
   "execution_count": null,
   "metadata": {
    "id": "2UFA5ZOujfbh"
   },
   "outputs": [],
   "source": [
    "correlation = calories_data.corr()"
   ]
  },
  {
   "cell_type": "code",
   "execution_count": null,
   "metadata": {
    "colab": {
     "base_uri": "https://localhost:8080/",
     "height": 619
    },
    "id": "dtp36oCBjyQI",
    "outputId": "38976e6d-201b-4f52-8c7a-1fc7ea5c01be"
   },
   "outputs": [],
   "source": [
    "# constructing a heatmap to understand the correlation\n",
    "\n",
    "plt.figure(figsize=(10,10))\n",
    "sns.heatmap(correlation, cbar=True, square=True, fmt='.1f', annot=True, annot_kws={'size':8}, cmap='Blues')\n"
   ]
  },
  {
   "cell_type": "markdown",
   "metadata": {
    "id": "PNxKhdn_lxOC"
   },
   "source": [
    "Converting the text data to numerical values"
   ]
  },
  {
   "cell_type": "code",
   "execution_count": null,
   "metadata": {
    "id": "lvlWPvd_k2hw"
   },
   "outputs": [],
   "source": [
    "calories_data.replace({\"Gender\":{'male':0,'female':1}}, inplace=True)"
   ]
  },
  {
   "cell_type": "code",
   "execution_count": null,
   "metadata": {
    "colab": {
     "base_uri": "https://localhost:8080/",
     "height": 196
    },
    "id": "Co_h1CUZmMB0",
    "outputId": "82aa7a91-30b0-4b6e-82a4-4161199bbf4e"
   },
   "outputs": [],
   "source": [
    "calories_data.head()"
   ]
  },
  {
   "cell_type": "markdown",
   "metadata": {
    "id": "zDrUQynrm5OZ"
   },
   "source": [
    "Separating features and Target"
   ]
  },
  {
   "cell_type": "code",
   "execution_count": null,
   "metadata": {
    "id": "yNX7qV5dmh-o"
   },
   "outputs": [],
   "source": [
    "X = calories_data.drop(columns=['User_ID','Calories'], axis=1)\n",
    "Y = calories_data['Calories']"
   ]
  },
  {
   "cell_type": "code",
   "execution_count": null,
   "metadata": {
    "colab": {
     "base_uri": "https://localhost:8080/"
    },
    "id": "l9_t_RaknWMS",
    "outputId": "7a5ccbbd-0302-428f-b124-1c55de8c09ed"
   },
   "outputs": [],
   "source": [
    "print(X)"
   ]
  },
  {
   "cell_type": "code",
   "execution_count": null,
   "metadata": {
    "colab": {
     "base_uri": "https://localhost:8080/"
    },
    "id": "Up5-uH0qnXdD",
    "outputId": "47e4c08f-afea-4288-f184-4ac401781c68"
   },
   "outputs": [],
   "source": [
    "print(Y)"
   ]
  },
  {
   "cell_type": "markdown",
   "metadata": {
    "id": "mzj0j0m-nfS7"
   },
   "source": [
    "Splitting the data into training data and Test data"
   ]
  },
  {
   "cell_type": "code",
   "execution_count": null,
   "metadata": {
    "id": "lVpEUea_naiH"
   },
   "outputs": [],
   "source": [
    "X_train, X_test, Y_train, Y_test = train_test_split(X, Y, test_size=0.2, random_state=2)"
   ]
  },
  {
   "cell_type": "code",
   "execution_count": null,
   "metadata": {
    "colab": {
     "base_uri": "https://localhost:8080/"
    },
    "id": "b5bBE7wRoPw9",
    "outputId": "99855aa4-40ef-484b-e264-53bf21082f03"
   },
   "outputs": [],
   "source": [
    "print(X.shape, X_train.shape, X_test.shape)"
   ]
  },
  {
   "cell_type": "markdown",
   "metadata": {
    "id": "TV84xw6Goeh6"
   },
   "source": [
    "Model Training"
   ]
  },
  {
   "cell_type": "markdown",
   "metadata": {
    "id": "VnB7kvETogu1"
   },
   "source": [
    "XGBoost Regressor"
   ]
  },
  {
   "cell_type": "code",
   "execution_count": null,
   "metadata": {
    "id": "9C4PUD9noX10"
   },
   "outputs": [],
   "source": [
    "# loading the model\n",
    "model = XGBRegressor()"
   ]
  },
  {
   "cell_type": "code",
   "execution_count": null,
   "metadata": {
    "colab": {
     "base_uri": "https://localhost:8080/"
    },
    "id": "nSNxHXUBowJ4",
    "outputId": "78067fba-1487-4df5-b2d6-80f8a0991296"
   },
   "outputs": [],
   "source": [
    "# training the model with X_train\n",
    "model.fit(X_train, Y_train)"
   ]
  },
  {
   "cell_type": "markdown",
   "metadata": {
    "id": "YmzboOlDpOBV"
   },
   "source": [
    "Evaluation"
   ]
  },
  {
   "cell_type": "markdown",
   "metadata": {
    "id": "uWyeJ2B0pTjl"
   },
   "source": [
    "Prediction on Test Data"
   ]
  },
  {
   "cell_type": "code",
   "execution_count": null,
   "metadata": {
    "id": "6fwoa12gpD1A"
   },
   "outputs": [],
   "source": [
    "test_data_prediction = model.predict(X_test)"
   ]
  },
  {
   "cell_type": "code",
   "execution_count": null,
   "metadata": {
    "colab": {
     "base_uri": "https://localhost:8080/"
    },
    "id": "elvZfEW_pnwa",
    "outputId": "b102fdab-05be-4f66-c126-ab282fa07c5b"
   },
   "outputs": [],
   "source": [
    "print(test_data_prediction)"
   ]
  },
  {
   "cell_type": "markdown",
   "metadata": {
    "id": "AvAOAtW3p3KU"
   },
   "source": [
    "Mean Absolute Error"
   ]
  },
  {
   "cell_type": "code",
   "execution_count": null,
   "metadata": {
    "id": "e32ffB4Opshq"
   },
   "outputs": [],
   "source": [
    "mae = metrics.mean_absolute_error(Y_test, test_data_prediction)"
   ]
  },
  {
   "cell_type": "code",
   "execution_count": null,
   "metadata": {
    "colab": {
     "base_uri": "https://localhost:8080/"
    },
    "id": "MWJQ0yJtqell",
    "outputId": "f5539a41-2d6b-4809-8a28-dbe9d703fc08"
   },
   "outputs": [],
   "source": [
    "print(\"Mean Absolute Error = \", mae)"
   ]
  },
  {
   "cell_type": "code",
   "execution_count": null,
   "metadata": {
    "id": "yVo9E_U_qkpK"
   },
   "outputs": [],
   "source": []
  }
 ],
 "metadata": {
  "colab": {
   "include_colab_link": true,
   "name": " Calories Burnt Prediction.ipynb",
   "provenance": []
  },
  "kernelspec": {
   "display_name": "Python 3 (ipykernel)",
   "language": "python",
   "name": "python3"
  },
  "language_info": {
   "codemirror_mode": {
    "name": "ipython",
    "version": 3
   },
   "file_extension": ".py",
   "mimetype": "text/x-python",
   "name": "python",
   "nbconvert_exporter": "python",
   "pygments_lexer": "ipython3",
   "version": "3.10.5"
  }
 },
 "nbformat": 4,
 "nbformat_minor": 1
}
